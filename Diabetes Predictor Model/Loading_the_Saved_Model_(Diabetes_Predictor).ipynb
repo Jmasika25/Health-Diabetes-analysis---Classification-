{
  "nbformat": 4,
  "nbformat_minor": 0,
  "metadata": {
    "colab": {
      "provenance": []
    },
    "kernelspec": {
      "name": "python3",
      "display_name": "Python 3"
    },
    "language_info": {
      "name": "python"
    }
  },
  "cells": [
    {
      "cell_type": "code",
      "execution_count": 1,
      "metadata": {
        "id": "DjCQKlb6XyqW"
      },
      "outputs": [],
      "source": [
        "# Loading the libraries\n",
        "import joblib\n",
        "import gradio as gr\n",
        "import pandas as pd"
      ]
    },
    {
      "cell_type": "code",
      "source": [
        "# load the saved model\n",
        "model = joblib.load(\"/content/diabetes_pipeline.pkl\")"
      ],
      "metadata": {
        "id": "q_g3W_ZCYasy"
      },
      "execution_count": 2,
      "outputs": []
    },
    {
      "cell_type": "code",
      "source": [
        "# Create the prediction function\n",
        "def predict_diabetes(\n",
        "    Pregnancies, Glucose, BloodPressure, SkinThickness, Insulin,\n",
        "       BMI, DiabetesPedigreeFunction, Age):\n",
        "  try:\n",
        "    df_input = pd.DataFrame([{\n",
        "    'Pregnancies':Pregnancies , 'Glucose':Glucose, 'BloodPressure':BloodPressure, 'SkinThickness':SkinThickness, 'Insulin':Insulin,\n",
        "       'BMI':BMI, 'DiabetesPedigreeFunction':DiabetesPedigreeFunction, 'Age':Age\n",
        "}])\n",
        "    pred = model.predict(df_input)[0]\n",
        "    return \"Diabetic\" if pred == 1 else \"Not Diabetic\"\n",
        "  except Exception as e:\n",
        "    return f\"Error during prediction: {str(e)}\""
      ],
      "metadata": {
        "id": "D_EOHhVyZasy"
      },
      "execution_count": 8,
      "outputs": []
    },
    {
      "cell_type": "code",
      "source": [
        "demo = gr.Interface(fn=predict_diabetes,\n",
        "                    inputs = [\n",
        "                        gr.Number(label=\"Pregnancies\"),\n",
        "                        gr.Number(label=\"Glucose\"),\n",
        "                        gr.Number(label=\"Blood Pressure\"),\n",
        "                        gr.Number(label=\"Skin Thickness\"),\n",
        "                        gr.Number(label=\"Insulin\"),\n",
        "                        gr.Number(label=\"BMI\"),\n",
        "                        gr.Number(label=\"Diabetes Pedigree Function\"),\n",
        "                        gr.Number(label=\"Age\")\n",
        "                    ],\n",
        "                    outputs = gr.Textbox(label='Predictions'),\n",
        "                    title = 'Diabetes Prediction Model')\n",
        "if __name__ == \"__main__\":\n",
        "    demo.launch()"
      ],
      "metadata": {
        "colab": {
          "base_uri": "https://localhost:8080/",
          "height": 647
        },
        "id": "-olhv9ZbcO-Y",
        "outputId": "3ae72582-8844-4b53-ce7b-8c278cefa6f8"
      },
      "execution_count": 9,
      "outputs": [
        {
          "output_type": "stream",
          "name": "stdout",
          "text": [
            "It looks like you are running Gradio on a hosted Jupyter notebook, which requires `share=True`. Automatically setting `share=True` (you can turn this off by setting `share=False` in `launch()` explicitly).\n",
            "\n",
            "Colab notebook detected. To show errors in colab notebook, set debug=True in launch()\n",
            "* Running on public URL: https://48fadb274951e88c89.gradio.live\n",
            "\n",
            "This share link expires in 1 week. For free permanent hosting and GPU upgrades, run `gradio deploy` from the terminal in the working directory to deploy to Hugging Face Spaces (https://huggingface.co/spaces)\n"
          ]
        },
        {
          "output_type": "display_data",
          "data": {
            "text/plain": [
              "<IPython.core.display.HTML object>"
            ],
            "text/html": [
              "<div><iframe src=\"https://48fadb274951e88c89.gradio.live\" width=\"100%\" height=\"500\" allow=\"autoplay; camera; microphone; clipboard-read; clipboard-write;\" frameborder=\"0\" allowfullscreen></iframe></div>"
            ]
          },
          "metadata": {}
        }
      ]
    }
  ]
}